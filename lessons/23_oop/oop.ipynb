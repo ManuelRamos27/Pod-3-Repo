{
 "cells": [
  {
   "cell_type": "markdown",
   "metadata": {},
   "source": [
    "# Class 23 - Objected Oriented Programming"
   ]
  },
  {
   "cell_type": "markdown",
   "metadata": {},
   "source": [
    "## Before class"
   ]
  },
  {
   "cell_type": "markdown",
   "metadata": {},
   "source": [
    "* You are familiar with data types, logical statements, loops and functions"
   ]
  },
  {
   "cell_type": "markdown",
   "metadata": {},
   "source": [
    "## Outline of class agenda\n",
    "\n",
    "- Objected Oriented Programming versus Procedural Programming\n",
    "- How to write Python classes to create objects\n",
    "- Adding more functionality to objects\n",
    " "
   ]
  },
  {
   "cell_type": "markdown",
   "metadata": {},
   "source": [
    "# Procedural Programming"
   ]
  },
  {
   "cell_type": "markdown",
   "metadata": {},
   "source": [
    "### So far...\n",
    "We've been writing code in the style of **Procedural Programming**, i.e. we take blocks of logic and put them inside functions to manipulate data:"
   ]
  },
  {
   "cell_type": "code",
   "execution_count": null,
   "metadata": {},
   "outputs": [],
   "source": [
    "ash = {\n",
    "    'name': 'Ash',\n",
    "    'bio': 'Software Developer in NYC',\n",
    "    'tweets': []\n",
    "}\n",
    "\n",
    "def add_tweet(user, text):\n",
    "        user['tweets'].append(text)\n",
    "        \n",
    "\n",
    "add_tweet(ash, 'Today was the longest day of the summer.')\n",
    "\n",
    "print(ash['tweets'][0])"
   ]
  },
  {
   "cell_type": "markdown",
   "metadata": {},
   "source": [
    "If want to add more users our code would look like this:"
   ]
  },
  {
   "cell_type": "code",
   "execution_count": null,
   "metadata": {},
   "outputs": [],
   "source": [
    "ash = {\n",
    "    'name': 'Ash',\n",
    "    'bio': 'Software Developer in NYC',\n",
    "    'tweets': []\n",
    "}\n",
    "\n",
    "def add_tweet(user, text):\n",
    "        user['tweets'].append(text)\n",
    "        \n",
    "\n",
    "add_tweet(ash, 'Today was the longest day of the summer.')\n",
    "\n",
    "print(ash['name'])\n",
    "print(ash['bio'])\n",
    "print(ash['tweets'][0])\n",
    "\n",
    "paul = {\n",
    "    'name': 'Paul',\n",
    "    'bio': 'PhD student at Columbia University',\n",
    "    'tweets': []\n",
    "}\n",
    "\n",
    "add_tweet(paul, 'Cambridge looks great during fall!')\n",
    "\n",
    "print(paul['name'])\n",
    "print(paul['bio'])\n",
    "print(paul['tweets'][0])"
   ]
  },
  {
   "cell_type": "markdown",
   "metadata": {},
   "source": [
    "We have seen versions of this code before like the music playlist challenges. However, there are other styles of programming! Here's the same code but applying concepts of **Objected Oriented Programming**:"
   ]
  },
  {
   "cell_type": "code",
   "execution_count": null,
   "metadata": {},
   "outputs": [],
   "source": [
    "class TwitterUser():\n",
    "    def __init__(self, name, bio):\n",
    "        self.name = name\n",
    "        self.bio = bio\n",
    "        self.tweets = []\n",
    "        \n",
    "    def add_tweet(self, text):\n",
    "        self.tweets.append(text)\n",
    "        \n",
    "ash = TwitterUser('Ash', 'Software Developer in NYC')\n",
    "ash.add_tweet('Today was the longest day of the summer.')\n",
    "\n",
    "paul = TwitterUser('Paul', 'PhD student at Columbia University')\n",
    "paul.add_tweet('Cambridge looks great during fall!')\n",
    "\n",
    "print(ash.name)\n",
    "print(ash.bio)\n",
    "print(ash.tweets[0])\n",
    "print(paul.name)\n",
    "print(paul.bio)\n",
    "print(paul.tweets[0])"
   ]
  },
  {
   "cell_type": "markdown",
   "metadata": {},
   "source": [
    "The key changes in how we code here are the following lines:"
   ]
  },
  {
   "cell_type": "code",
   "execution_count": null,
   "metadata": {},
   "outputs": [],
   "source": [
    "ash = TwitterUser('Ash', 'Software Developer in NYC')\n",
    "ash.add_tweet('Today was the longest day of the summer.')"
   ]
  },
  {
   "cell_type": "markdown",
   "metadata": {},
   "source": [
    "The creation of a user is simpler and the `add_tweet` function is now tied to that user (similar to functions we learned that are attached by the dot notation to data type like `list.append()` or `str.capitalize()`"
   ]
  },
  {
   "cell_type": "markdown",
   "metadata": {},
   "source": [
    "# Objected Oriented Programming"
   ]
  },
  {
   "cell_type": "markdown",
   "metadata": {},
   "source": [
    "Before we dig deeper into the syntax, here's the key idea behind OOP: \n",
    "- We combine data (name, bio, tweets) and functionality (add_tweet) and wrap it inside something called an **object**. The user `ash` and `paul` are now objects. \n",
    "- Objects are created from a blueprint (TwitterUser) called a **class** that dictates data and functionality the objects would contain\n",
    "- When you're writing large programs or have a problem that is better suited to this method, you can use object oriented programming technique"
   ]
  },
  {
   "cell_type": "markdown",
   "metadata": {},
   "source": [
    "## Creating a class"
   ]
  },
  {
   "cell_type": "code",
   "execution_count": null,
   "metadata": {},
   "outputs": [],
   "source": [
    "class Person():\n",
    "    pass"
   ]
  },
  {
   "cell_type": "markdown",
   "metadata": {},
   "source": [
    "## Adding an attribute"
   ]
  },
  {
   "cell_type": "code",
   "execution_count": null,
   "metadata": {},
   "outputs": [],
   "source": [
    "class Person():\n",
    "    def __init__(self, name):\n",
    "        pass"
   ]
  },
  {
   "cell_type": "markdown",
   "metadata": {},
   "source": [
    "`def __init__(self):` is an initialization function. This is where we setup **attributes**. We can think of attributes as key/value pairs of a dictionary. "
   ]
  },
  {
   "cell_type": "code",
   "execution_count": null,
   "metadata": {},
   "outputs": [],
   "source": [
    "class Person():\n",
    "    def __init__(self, name):\n",
    "        self.name = name"
   ]
  },
  {
   "cell_type": "markdown",
   "metadata": {},
   "source": [
    "`self` refers to the object that will be created from the class blueprint. This object creation is also called instantiating a class. `self.name` will be assigned a name during instantiation."
   ]
  },
  {
   "cell_type": "markdown",
   "metadata": {},
   "source": [
    "## Instantiating a class or creating an object from a class"
   ]
  },
  {
   "cell_type": "code",
   "execution_count": null,
   "metadata": {},
   "outputs": [],
   "source": [
    "# name gets assigned to self.name\n",
    "person = Person('Mattan')\n",
    "# person.name now contains 'Mattan'\n",
    "print(person.name)\n",
    "\n",
    "# name gets assigned to self.name\n",
    "person_2 = Person('Yusuf')\n",
    "# person_2.name now contains 'Yusuf'\n",
    "print(person_2.name)"
   ]
  },
  {
   "cell_type": "markdown",
   "metadata": {},
   "source": [
    "## Adding a method or a function to a class"
   ]
  },
  {
   "cell_type": "code",
   "execution_count": null,
   "metadata": {},
   "outputs": [],
   "source": [
    "class Person():\n",
    "  def __init__(self, name):\n",
    "    self.name = name\n",
    "  \n",
    "  # greeting function is a method of Person class\n",
    "  def greeting(self):\n",
    "    return f'Hello, my name is {self.name}'\n",
    "    \n",
    "person = Person('Mattan')\n",
    "\n",
    "print(person.greeting()) # 'Hello, my name is Mattan'"
   ]
  },
  {
   "cell_type": "markdown",
   "metadata": {},
   "source": [
    "## Checking types"
   ]
  },
  {
   "cell_type": "code",
   "execution_count": null,
   "metadata": {},
   "outputs": [],
   "source": [
    "print(person)\n",
    "print(type(person))\n",
    "print(type(person) == Person)"
   ]
  },
  {
   "cell_type": "markdown",
   "metadata": {},
   "source": [
    "## Updating Person class\n",
    "Let's add an additional detail in the greeting output:"
   ]
  },
  {
   "cell_type": "code",
   "execution_count": null,
   "metadata": {},
   "outputs": [],
   "source": [
    "print(person.greeting()) # 'Hello, my name is Mattan and I am 28 years old'"
   ]
  },
  {
   "cell_type": "markdown",
   "metadata": {},
   "source": [
    "**Implementation**"
   ]
  },
  {
   "cell_type": "code",
   "execution_count": null,
   "metadata": {},
   "outputs": [],
   "source": [
    "class Person():\n",
    "    def __init__(self, name, age):\n",
    "        self.name = str(name)\n",
    "        self.age = int(age)\n",
    "    \n",
    "    def greeting(self):\n",
    "        return f'Hello, my name is {self.name} and I am {self.age} years old'\n",
    "    \n",
    "person = Person('Mattan', 28)\n",
    "\n",
    "print(person.greeting()) # 'Hello, my name is Mattan and I am 28 years old'"
   ]
  },
  {
   "cell_type": "markdown",
   "metadata": {},
   "source": [
    "## Let's dive deeper with other data types\n"
   ]
  },
  {
   "cell_type": "code",
   "execution_count": null,
   "metadata": {},
   "outputs": [],
   "source": [
    "class Cart():\n",
    "    def __init__(self):\n",
    "        self.items = []\n",
    "  \n",
    "    def add(self, name, price):\n",
    "        item = {}\n",
    "        item['name'] = name\n",
    "        item['price'] = price\n",
    "        self.items.append(item)\n",
    "    \n",
    "cart = Cart()\n",
    "\n",
    "# add a few items\n",
    "cart.add('oreos', 12)\n",
    "cart.add('bananas', 2)\n",
    "\n",
    "print(cart.items) # [{'name': 'oreos', 'price': 12}, {'name': 'bananas', 'price': 2}]"
   ]
  },
  {
   "cell_type": "markdown",
   "metadata": {},
   "source": [
    "## Adding more functionality"
   ]
  },
  {
   "cell_type": "markdown",
   "metadata": {},
   "source": [
    "Let's create a method `total` that returns the total of all items added to Cart including a `$` before it:"
   ]
  },
  {
   "cell_type": "code",
   "execution_count": null,
   "metadata": {},
   "outputs": [],
   "source": [
    "cart.add('oreos', 12)\n",
    "cart.add('bananas', 2)\n",
    "print(cart.total()) # $14"
   ]
  },
  {
   "cell_type": "code",
   "execution_count": null,
   "metadata": {},
   "outputs": [],
   "source": [
    "class Cart():\n",
    "    def __init__(self):\n",
    "        self.items = []\n",
    "  \n",
    "    def add(self, name, price):\n",
    "        item = {}\n",
    "        item['name'] = name\n",
    "        item['price'] = price\n",
    "        self.items.append(item)\n",
    "        \n",
    "    # total function goes here\n",
    "    def total(self):\n",
    "        cart_total = 0\n",
    "        # self.items allows us to access the items list local to the object\n",
    "        for item in self.items:\n",
    "            cart_total += item['price']\n",
    "        return f'${cart_total}'\n",
    "    \n",
    "cart = Cart()\n",
    "cart.add('oreos', 12)\n",
    "cart.add('bananas', 2)\n",
    "\n",
    "print(cart.total())"
   ]
  },
  {
   "cell_type": "markdown",
   "metadata": {},
   "source": [
    "# Final thoughts"
   ]
  },
  {
   "cell_type": "markdown",
   "metadata": {},
   "source": [
    "- It is a common pattern seen in Python and other languages to organize complex projects\n",
    "- This will also be instrumental in understanding `pandas` and other Python libraries\n",
    "- Beside procedural and objected oriented programming, there's one more style of coding called functional. We won't be covering it in this course, but it is definitely worth exploring."
   ]
  },
  {
   "cell_type": "markdown",
   "metadata": {},
   "source": [
    "# Other Resources"
   ]
  },
  {
   "cell_type": "markdown",
   "metadata": {},
   "source": [
    "- https://docs.python.org/3/tutorial/classes.html\n",
    "- https://realpython.com/python3-object-oriented-programming\n",
    "- https://www.w3schools.com/python/python_classes.asp"
   ]
  },
  {
   "cell_type": "code",
   "execution_count": null,
   "metadata": {},
   "outputs": [],
   "source": []
  }
 ],
 "metadata": {
  "kernelspec": {
   "display_name": "Python 3",
   "language": "python",
   "name": "python3"
  },
  "language_info": {
   "codemirror_mode": {
    "name": "ipython",
    "version": 3
   },
   "file_extension": ".py",
   "mimetype": "text/x-python",
   "name": "python",
   "nbconvert_exporter": "python",
   "pygments_lexer": "ipython3",
   "version": "3.7.6"
  }
 },
 "nbformat": 4,
 "nbformat_minor": 2
}
