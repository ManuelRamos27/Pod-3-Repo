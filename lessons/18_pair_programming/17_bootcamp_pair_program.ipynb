{
 "cells": [
  {
   "cell_type": "markdown",
   "metadata": {},
   "source": [
    "# Bootcamp class 16 - Pair Programming\n",
    "\n",
    "<img src=\"https://images.ctfassets.net/k428n7s2pxlu/1aJnbCcUvAa4qiIg4kMeI/9c93dd78ff2c7c5ffbff3e14f5878a87/6-reasons-for-pair-programming.jpg\" width=\"400\">\n",
    "\n",
    "# What is pair programming?\n",
    "\n",
    "[Pair programming](https://www.codementor.io/pair-programming) is coding technique where two programmers work together at one computer.\n",
    "* One person writes the code \n",
    "* The other person reviews the code as it is typed and make suggestions\n",
    "* The two people switch roles whenever they want\n",
    "\n",
    "\n",
    "\n",
    "# Why pair program?\n",
    "\n",
    "* Programming 'out loud' means that all people involved must communicate and have a good understanding of the code\n",
    "* Programmers can learn from each other! Everyone knows different tools\n",
    "* Programmers can help correct mistakes (2 pairs of eyes better than 1)"
   ]
  },
  {
   "cell_type": "markdown",
   "metadata": {},
   "source": [
    "# Pair Programming Demo\n",
    "\n",
    "Two of the instructors will now do a demo of some pair programming for setting up some functions for making a script to make a 'twitter account'. \n",
    "\n",
    "### `twitter functions.py`\n",
    "\n",
    "This script defines some functions for working with a 'twitter' account:\n",
    "\n",
    "```python\n",
    "# function to initialize a twitter account\n",
    "def create_account():\n",
    "    username = input('Please enter username: ')\n",
    "    password = input('Please enter password: ')\n",
    "    account = {'username': username, 'password': password, 'tweets': []}\n",
    "    return(account)\n",
    "\n",
    "# function to 'post' a tweet\n",
    "def post_tweet(account, tweet):\n",
    "    account['tweets'].append(tweet)\n",
    "    print(f'{account[\"username\"]} posted a new tweet, \"{tweet}\"')\n",
    "\n",
    "# function to count tweets\n",
    "def count_tweets(account):\n",
    "    return(len(account['tweets']))\n",
    "\n",
    "# function to diplay a twitter profile\n",
    "def display_profile(account):\n",
    "    print(f'Account Name: @{account[\"username\"]}')\n",
    "    for tweet in account['tweets']:\n",
    "        print(tweet)\n",
    "```\n",
    "\n",
    "### `test_twitter.py`\n",
    "\n",
    "This script tests out the functions defined in `twitter_functions.py` to work with a demo 'twitter' account\n",
    "\n",
    "```python\n",
    "# import twitter_functions\n",
    "from twitter_functions import *\n",
    "\n",
    "# create twitter account called my_twitter\n",
    "my_twitter = create_account()\n",
    "\n",
    "# post three tweets to this account\n",
    "post_tweet(my_twitter, 'hi internet, how is it going?')\n",
    "post_tweet(my_twitter, 'welcome to my twitter feed')\n",
    "post_tweet(my_twitter, 'this is my third post')\n",
    "\n",
    "# count the number of tweets posted\n",
    "number_of_tweets = count_tweets(my_twitter)\n",
    "print(number_of_tweets)\n",
    "\n",
    "# display the user profile\n",
    "display_profile(my_twitter)\n",
    "```"
   ]
  },
  {
   "cell_type": "code",
   "execution_count": null,
   "metadata": {},
   "outputs": [],
   "source": []
  }
 ],
 "metadata": {
  "kernelspec": {
   "display_name": "Python 3",
   "language": "python",
   "name": "python3"
  },
  "language_info": {
   "codemirror_mode": {
    "name": "ipython",
    "version": 3
   },
   "file_extension": ".py",
   "mimetype": "text/x-python",
   "name": "python",
   "nbconvert_exporter": "python",
   "pygments_lexer": "ipython3",
   "version": "3.7.4"
  }
 },
 "nbformat": 4,
 "nbformat_minor": 4
}
